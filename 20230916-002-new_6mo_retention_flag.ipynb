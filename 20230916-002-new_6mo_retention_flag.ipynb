{
 "cells": [
  {
   "cell_type": "code",
   "execution_count": 1,
   "id": "54ab8dcd-d38a-4a35-957c-fea4ec75facb",
   "metadata": {},
   "outputs": [],
   "source": [
    "import pandas as pd"
   ]
  },
  {
   "cell_type": "code",
   "execution_count": 2,
   "id": "e3e87a0f-5be7-4019-b631-f5f263a9f87d",
   "metadata": {},
   "outputs": [],
   "source": [
    "surveys = pd.read_csv('data/JobsData_Clean.csv', low_memory=False)\n",
    "people = pd.read_csv('data/ContactsProcessed.csv', encoding='latin-1')"
   ]
  },
  {
   "cell_type": "code",
   "execution_count": 4,
   "id": "1f36d162-f484-41ce-bd83-2d917a138cfa",
   "metadata": {},
   "outputs": [
    {
     "data": {
      "text/plain": [
       "Emp_Stat_Type\n",
       "At Grad Placement Status Check          5680\n",
       "3-Month Placement Status Check          3032\n",
       "3-Month Post-Placement Status Check     2154\n",
       "6-Month Post-Placement Status Check     1375\n",
       "6-Month Placement Status Check          1165\n",
       "9-Month Placement Status Check           748\n",
       "9-Month Post-Placement Status Check      744\n",
       "12-Month Placement Status Check          104\n",
       "12-Month Post-Placement Status Check     103\n",
       "Name: count, dtype: int64"
      ]
     },
     "execution_count": 4,
     "metadata": {},
     "output_type": "execute_result"
    }
   ],
   "source": [
    "surveys.Emp_Stat_Type.value_counts()"
   ]
  },
  {
   "cell_type": "markdown",
   "id": "3eda9fb1-0080-44bb-976d-0598340bd93f",
   "metadata": {},
   "source": [
    "We want to \"6 month retention\" in the sense of \"of people who got a job out of EFE, how many kept that job for at least six months?\"\n",
    "\n",
    "So for us to know, we need a \"6-Month Post-Placement Status Check\".\n",
    "\n",
    "Well; really, we could use a 9 or 12-month, maybe, if they have that but not 6..."
   ]
  },
  {
   "cell_type": "code",
   "execution_count": 9,
   "id": "707d48ff-316c-4c39-91ce-3779767716ab",
   "metadata": {},
   "outputs": [
    {
     "data": {
      "text/plain": [
       "306"
      ]
     },
     "execution_count": 9,
     "metadata": {},
     "output_type": "execute_result"
    }
   ],
   "source": [
    "len(set(surveys.ContactID[surveys.Emp_Stat_Type == '9-Month Post-Placement Status Check'])\n",
    "   -set(surveys.ContactID[surveys.Emp_Stat_Type == '6-Month Post-Placement Status Check']))"
   ]
  },
  {
   "cell_type": "code",
   "execution_count": 10,
   "id": "78105724-827d-4834-a966-db839156073c",
   "metadata": {},
   "outputs": [
    {
     "data": {
      "text/plain": [
       "39"
      ]
     },
     "execution_count": 10,
     "metadata": {},
     "output_type": "execute_result"
    }
   ],
   "source": [
    "len(set(surveys.ContactID[surveys.Emp_Stat_Type == '12-Month Post-Placement Status Check'])\n",
    "   -set(surveys.ContactID[surveys.Emp_Stat_Type == '6-Month Post-Placement Status Check']))"
   ]
  },
  {
   "cell_type": "markdown",
   "id": "caf7db56-402f-484e-a9a9-08170fa1e520",
   "metadata": {},
   "source": [
    "And if we just have a 3, then at least we know the person got a job...\n",
    "\n",
    "We should probably treat this like survival data?"
   ]
  },
  {
   "cell_type": "code",
   "execution_count": 11,
   "id": "523cc5a4-c709-47c7-b3cc-8a4c188b18a8",
   "metadata": {
    "scrolled": true
   },
   "outputs": [
    {
     "data": {
      "text/plain": [
       "{19,\n",
       " 53,\n",
       " 141,\n",
       " 143,\n",
       " 151,\n",
       " 158,\n",
       " 163,\n",
       " 171,\n",
       " 176,\n",
       " 234,\n",
       " 271,\n",
       " 413,\n",
       " 443,\n",
       " 501,\n",
       " 515,\n",
       " 831,\n",
       " 842,\n",
       " 888,\n",
       " 949,\n",
       " 986,\n",
       " 1032,\n",
       " 1251,\n",
       " 1255,\n",
       " 1260,\n",
       " 1332,\n",
       " 1351,\n",
       " 1354,\n",
       " 1495,\n",
       " 1551,\n",
       " 1606,\n",
       " 1746,\n",
       " 1753,\n",
       " 1796,\n",
       " 1920,\n",
       " 1923,\n",
       " 2200,\n",
       " 2312,\n",
       " 2417,\n",
       " 5424}"
      ]
     },
     "execution_count": 11,
     "metadata": {},
     "output_type": "execute_result"
    }
   ],
   "source": [
    "(set(surveys.ContactID[surveys.Emp_Stat_Type == '12-Month Post-Placement Status Check'])\n",
    "   -set(surveys.ContactID[surveys.Emp_Stat_Type == '6-Month Post-Placement Status Check']))"
   ]
  },
  {
   "cell_type": "markdown",
   "id": "ba91c668-b8f3-4151-b57c-dbabdf7ff792",
   "metadata": {},
   "source": [
    "Lots of dates are missing... `Employment_Start_Date`, `Employment_End_Date` are there sometimes... `Survey_Created_Date` maybe?"
   ]
  },
  {
   "cell_type": "code",
   "execution_count": 12,
   "id": "06225b42-4390-4a82-8bd3-ec8965874826",
   "metadata": {},
   "outputs": [
    {
     "data": {
      "text/plain": [
       "188"
      ]
     },
     "execution_count": 12,
     "metadata": {},
     "output_type": "execute_result"
    }
   ],
   "source": [
    "surveys.Survey_Created_Date.isna().sum()"
   ]
  },
  {
   "cell_type": "markdown",
   "id": "054626c6-4cd0-47af-ad54-e23f1a35d44a",
   "metadata": {},
   "source": [
    "Ah, these are all `Secured_Previous_Emp` rows though. Not real surveys?\n",
    "\n",
    "Okay, so for each ContactID, go through their surveys in `Survey_Created_Date` order...\n",
    "\n",
    "As soon as they have a non-U job number, try to get the start date, or use the survey date as the start date.\n",
    "\n",
    "If you have one of these dates, we know you got a job. Otherwise, we don't know, since you could go on not getting a job for a long time but eventually get one.\n",
    "\n",
    "From there we want to know whether you were employed _in that same job_ at six months.\n",
    "\n",
    "So we keep reading further surveys. As long as they have the same jobid, we take that as knowledge that the person still has the job at such a date.\n",
    "\n",
    "As soon as we have a survey with a different jobid, we use either that survey date or (preferably) the employement end date..."
   ]
  },
  {
   "cell_type": "code",
   "execution_count": 14,
   "id": "56f9f48f-c991-4f3d-8a84-e80583051ade",
   "metadata": {},
   "outputs": [],
   "source": [
    "# Exclude surveys without dates\n",
    "# (this drops some ContactIDs!)\n",
    "dated_surveys = surveys[~surveys.Survey_Created_Date.isna()]"
   ]
  },
  {
   "cell_type": "code",
   "execution_count": 16,
   "id": "83ec32e1-6c63-466c-aa3f-dd91a41feb60",
   "metadata": {},
   "outputs": [
    {
     "data": {
      "text/plain": [
       "56"
      ]
     },
     "execution_count": 16,
     "metadata": {},
     "output_type": "execute_result"
    }
   ],
   "source": [
    "len(set(surveys.ContactID)) - len(set(dated_surveys.ContactID))"
   ]
  },
  {
   "cell_type": "code",
   "execution_count": 51,
   "id": "ef63af7f-1542-47c8-882f-441178d20b77",
   "metadata": {},
   "outputs": [],
   "source": [
    "results = []\n",
    "\n",
    "for person in sorted(set(dated_surveys.ContactID)):\n",
    "    data = dated_surveys[dated_surveys.ContactID == person].copy()\n",
    "    data = data.sort_values(by='Survey_Created_Date')\n",
    "    first_jobid, first_start, first_end = None, None, None\n",
    "    still_have = None\n",
    "    six_mo_crude = None\n",
    "    for index, row in data.iterrows():\n",
    "        # I don't observe \"U\" rows that have prior employment start and end (so don't worry about that case)\n",
    "        if row.Emp_Stat_Type == '6-Month Post-Placement Status Check':\n",
    "            if first_jobid is None:\n",
    "                six_mo_crude = not row.JobID.startswith('U')\n",
    "            else:\n",
    "                six_mo_crude = first_jobid == row.JobID\n",
    "        if first_start is None and not row.JobID.startswith('U'):\n",
    "            # got a new job!\n",
    "            first_jobid = row.JobID\n",
    "            first_start = row.Employment_Start_Date if not pd.isna(row.Employment_Start_Date) else row.Survey_Created_Date\n",
    "            still_have = row.Survey_Created_Date\n",
    "            # print(f'{first_jobid=}, {first_start=}, {still_have=}')\n",
    "            # sometimes these also have an end date, but it must be for the prior job?\n",
    "            continue\n",
    "        if first_jobid is not None and row.JobID == first_jobid and first_end is None:\n",
    "            # still have that job!\n",
    "            still_have = row.Survey_Created_Date\n",
    "            # print(f'{first_jobid=}, {first_start=}, {still_have=}')\n",
    "            continue\n",
    "        if first_jobid is not None and row.JobID != first_jobid and first_end is None:\n",
    "            # new job or now unemployed!\n",
    "            first_end = row.Employment_End_Date  # insist on this; survey date is too late\n",
    "            # print(f'{first_jobid=}, {first_start=}, {still_have=}, {first_end=}')\n",
    "    results.append([person, first_start, still_have, first_end, six_mo_crude])\n",
    "    # print(data)\n",
    "    # break"
   ]
  },
  {
   "cell_type": "code",
   "execution_count": 55,
   "id": "f72c6e87-73d7-4d9f-890b-4f63608e3afb",
   "metadata": {},
   "outputs": [],
   "source": [
    "results = pd.DataFrame(results, columns=['ContactID', 'first_start', 'still_have', 'first_end', 'six_mo_crude'])"
   ]
  },
  {
   "cell_type": "code",
   "execution_count": 56,
   "id": "1c62d241-2020-444c-a04d-bb482ac0d773",
   "metadata": {},
   "outputs": [
    {
     "data": {
      "text/plain": [
       "six_mo_crude\n",
       "True     912\n",
       "False    437\n",
       "Name: count, dtype: int64"
      ]
     },
     "execution_count": 56,
     "metadata": {},
     "output_type": "execute_result"
    }
   ],
   "source": [
    "results.six_mo_crude.value_counts()"
   ]
  },
  {
   "cell_type": "code",
   "execution_count": 57,
   "id": "2bf85e6d-6576-4b02-83a9-9f81e5dddb44",
   "metadata": {},
   "outputs": [
    {
     "data": {
      "text/plain": [
       "0.676056338028169"
      ]
     },
     "execution_count": 57,
     "metadata": {},
     "output_type": "execute_result"
    }
   ],
   "source": [
    "912 / (912 + 437)"
   ]
  },
  {
   "cell_type": "code",
   "execution_count": 58,
   "id": "a2a1797d-842a-4e98-ad9f-a533aa53328a",
   "metadata": {},
   "outputs": [
    {
     "data": {
      "text/plain": [
       "1349"
      ]
     },
     "execution_count": 58,
     "metadata": {},
     "output_type": "execute_result"
    }
   ],
   "source": [
    "912 + 437"
   ]
  },
  {
   "cell_type": "code",
   "execution_count": 59,
   "id": "0bff17b8-04a8-4787-ad6f-513f90d437e7",
   "metadata": {},
   "outputs": [
    {
     "data": {
      "text/html": [
       "<div>\n",
       "<style scoped>\n",
       "    .dataframe tbody tr th:only-of-type {\n",
       "        vertical-align: middle;\n",
       "    }\n",
       "\n",
       "    .dataframe tbody tr th {\n",
       "        vertical-align: top;\n",
       "    }\n",
       "\n",
       "    .dataframe thead th {\n",
       "        text-align: right;\n",
       "    }\n",
       "</style>\n",
       "<table border=\"1\" class=\"dataframe\">\n",
       "  <thead>\n",
       "    <tr style=\"text-align: right;\">\n",
       "      <th></th>\n",
       "      <th>ContactID</th>\n",
       "      <th>first_start</th>\n",
       "      <th>still_have</th>\n",
       "      <th>first_end</th>\n",
       "      <th>six_mo_crude</th>\n",
       "    </tr>\n",
       "  </thead>\n",
       "  <tbody>\n",
       "    <tr>\n",
       "      <th>0</th>\n",
       "      <td>1</td>\n",
       "      <td>2021-12-01 00:00:00</td>\n",
       "      <td>2022-01-17 00:00:00</td>\n",
       "      <td>2021-12-01 00:00:00</td>\n",
       "      <td>False</td>\n",
       "    </tr>\n",
       "    <tr>\n",
       "      <th>1</th>\n",
       "      <td>2</td>\n",
       "      <td>None</td>\n",
       "      <td>None</td>\n",
       "      <td>None</td>\n",
       "      <td>None</td>\n",
       "    </tr>\n",
       "    <tr>\n",
       "      <th>2</th>\n",
       "      <td>3</td>\n",
       "      <td>2022-03-09 00:00:00</td>\n",
       "      <td>2022-03-09 00:00:00</td>\n",
       "      <td>None</td>\n",
       "      <td>None</td>\n",
       "    </tr>\n",
       "    <tr>\n",
       "      <th>3</th>\n",
       "      <td>4</td>\n",
       "      <td>2022-04-01 00:00:00</td>\n",
       "      <td>2022-04-21 00:00:00</td>\n",
       "      <td>None</td>\n",
       "      <td>None</td>\n",
       "    </tr>\n",
       "    <tr>\n",
       "      <th>4</th>\n",
       "      <td>5</td>\n",
       "      <td>2022-01-01 00:00:00</td>\n",
       "      <td>2022-07-13 00:00:00</td>\n",
       "      <td>None</td>\n",
       "      <td>None</td>\n",
       "    </tr>\n",
       "    <tr>\n",
       "      <th>...</th>\n",
       "      <td>...</td>\n",
       "      <td>...</td>\n",
       "      <td>...</td>\n",
       "      <td>...</td>\n",
       "      <td>...</td>\n",
       "    </tr>\n",
       "    <tr>\n",
       "      <th>7063</th>\n",
       "      <td>7120</td>\n",
       "      <td>2021-12-08 00:00:00</td>\n",
       "      <td>2022-03-29 00:00:00</td>\n",
       "      <td>None</td>\n",
       "      <td>None</td>\n",
       "    </tr>\n",
       "    <tr>\n",
       "      <th>7064</th>\n",
       "      <td>7121</td>\n",
       "      <td>2022-09-01 00:00:00</td>\n",
       "      <td>2022-09-20 00:00:00</td>\n",
       "      <td>None</td>\n",
       "      <td>None</td>\n",
       "    </tr>\n",
       "    <tr>\n",
       "      <th>7065</th>\n",
       "      <td>7122</td>\n",
       "      <td>2021-01-29 00:00:00</td>\n",
       "      <td>2021-10-18 00:00:00</td>\n",
       "      <td>None</td>\n",
       "      <td>True</td>\n",
       "    </tr>\n",
       "    <tr>\n",
       "      <th>7066</th>\n",
       "      <td>7123</td>\n",
       "      <td>2022-02-15 00:00:00</td>\n",
       "      <td>2022-07-21 00:00:00</td>\n",
       "      <td>None</td>\n",
       "      <td>None</td>\n",
       "    </tr>\n",
       "    <tr>\n",
       "      <th>7067</th>\n",
       "      <td>7124</td>\n",
       "      <td>2022-01-09 00:00:00</td>\n",
       "      <td>2022-02-27 00:00:00</td>\n",
       "      <td>None</td>\n",
       "      <td>None</td>\n",
       "    </tr>\n",
       "  </tbody>\n",
       "</table>\n",
       "<p>7068 rows × 5 columns</p>\n",
       "</div>"
      ],
      "text/plain": [
       "      ContactID          first_start           still_have  \\\n",
       "0             1  2021-12-01 00:00:00  2022-01-17 00:00:00   \n",
       "1             2                 None                 None   \n",
       "2             3  2022-03-09 00:00:00  2022-03-09 00:00:00   \n",
       "3             4  2022-04-01 00:00:00  2022-04-21 00:00:00   \n",
       "4             5  2022-01-01 00:00:00  2022-07-13 00:00:00   \n",
       "...         ...                  ...                  ...   \n",
       "7063       7120  2021-12-08 00:00:00  2022-03-29 00:00:00   \n",
       "7064       7121  2022-09-01 00:00:00  2022-09-20 00:00:00   \n",
       "7065       7122  2021-01-29 00:00:00  2021-10-18 00:00:00   \n",
       "7066       7123  2022-02-15 00:00:00  2022-07-21 00:00:00   \n",
       "7067       7124  2022-01-09 00:00:00  2022-02-27 00:00:00   \n",
       "\n",
       "                first_end six_mo_crude  \n",
       "0     2021-12-01 00:00:00        False  \n",
       "1                    None         None  \n",
       "2                    None         None  \n",
       "3                    None         None  \n",
       "4                    None         None  \n",
       "...                   ...          ...  \n",
       "7063                 None         None  \n",
       "7064                 None         None  \n",
       "7065                 None         True  \n",
       "7066                 None         None  \n",
       "7067                 None         None  \n",
       "\n",
       "[7068 rows x 5 columns]"
      ]
     },
     "execution_count": 59,
     "metadata": {},
     "output_type": "execute_result"
    }
   ],
   "source": [
    "results"
   ]
  },
  {
   "cell_type": "code",
   "execution_count": 60,
   "id": "699f1d7b-8b86-4023-bdc3-7612cdba49ab",
   "metadata": {},
   "outputs": [
    {
     "data": {
      "text/plain": [
       "5256"
      ]
     },
     "execution_count": 60,
     "metadata": {},
     "output_type": "execute_result"
    }
   ],
   "source": [
    "(~results.first_start.isna()).sum()"
   ]
  },
  {
   "cell_type": "code",
   "execution_count": 61,
   "id": "4e883b08-3f99-4968-8d3d-8bc71f4d6bd4",
   "metadata": {},
   "outputs": [
    {
     "data": {
      "text/plain": [
       "1052"
      ]
     },
     "execution_count": 61,
     "metadata": {},
     "output_type": "execute_result"
    }
   ],
   "source": [
    "(~results.first_end.isna()).sum()"
   ]
  },
  {
   "cell_type": "code",
   "execution_count": 68,
   "id": "10f15d26-8733-45db-99bf-30293d907d8e",
   "metadata": {},
   "outputs": [],
   "source": [
    "results['survived_for'] = pd.to_datetime(results.still_have) - pd.to_datetime(results.first_start)"
   ]
  },
  {
   "cell_type": "code",
   "execution_count": 69,
   "id": "4007242f-f878-4334-b098-5c3bb8f7d7f1",
   "metadata": {},
   "outputs": [],
   "source": [
    "results['ended_in'] = pd.to_datetime(results.first_end) - pd.to_datetime(results.first_start)"
   ]
  },
  {
   "cell_type": "code",
   "execution_count": 71,
   "id": "a5524ba5-960a-4e8c-8200-1e1996a061b5",
   "metadata": {},
   "outputs": [
    {
     "data": {
      "text/html": [
       "<div>\n",
       "<style scoped>\n",
       "    .dataframe tbody tr th:only-of-type {\n",
       "        vertical-align: middle;\n",
       "    }\n",
       "\n",
       "    .dataframe tbody tr th {\n",
       "        vertical-align: top;\n",
       "    }\n",
       "\n",
       "    .dataframe thead th {\n",
       "        text-align: right;\n",
       "    }\n",
       "</style>\n",
       "<table border=\"1\" class=\"dataframe\">\n",
       "  <thead>\n",
       "    <tr style=\"text-align: right;\">\n",
       "      <th></th>\n",
       "      <th>ContactID</th>\n",
       "      <th>first_start</th>\n",
       "      <th>still_have</th>\n",
       "      <th>first_end</th>\n",
       "      <th>six_mo_crude</th>\n",
       "      <th>survived_for</th>\n",
       "      <th>ended_in</th>\n",
       "    </tr>\n",
       "  </thead>\n",
       "  <tbody>\n",
       "    <tr>\n",
       "      <th>0</th>\n",
       "      <td>1</td>\n",
       "      <td>2021-12-01 00:00:00</td>\n",
       "      <td>2022-01-17 00:00:00</td>\n",
       "      <td>2021-12-01 00:00:00</td>\n",
       "      <td>False</td>\n",
       "      <td>47 days</td>\n",
       "      <td>0 days</td>\n",
       "    </tr>\n",
       "    <tr>\n",
       "      <th>8</th>\n",
       "      <td>9</td>\n",
       "      <td>2021-07-05 00:00:00</td>\n",
       "      <td>2021-07-16 00:00:00</td>\n",
       "      <td>2022-04-04 00:00:00</td>\n",
       "      <td>None</td>\n",
       "      <td>11 days</td>\n",
       "      <td>273 days</td>\n",
       "    </tr>\n",
       "    <tr>\n",
       "      <th>16</th>\n",
       "      <td>18</td>\n",
       "      <td>2021-05-31 00:00:00</td>\n",
       "      <td>2022-02-25 00:00:00</td>\n",
       "      <td>2022-01-03 00:00:00</td>\n",
       "      <td>True</td>\n",
       "      <td>270 days</td>\n",
       "      <td>217 days</td>\n",
       "    </tr>\n",
       "    <tr>\n",
       "      <th>17</th>\n",
       "      <td>19</td>\n",
       "      <td>2021-04-01 00:00:00</td>\n",
       "      <td>2021-08-25 00:00:00</td>\n",
       "      <td>2021-07-21 00:00:00</td>\n",
       "      <td>None</td>\n",
       "      <td>146 days</td>\n",
       "      <td>111 days</td>\n",
       "    </tr>\n",
       "    <tr>\n",
       "      <th>34</th>\n",
       "      <td>36</td>\n",
       "      <td>2021-10-30 00:00:00</td>\n",
       "      <td>2021-12-28 00:00:00</td>\n",
       "      <td>2022-01-01 00:00:00</td>\n",
       "      <td>None</td>\n",
       "      <td>59 days</td>\n",
       "      <td>63 days</td>\n",
       "    </tr>\n",
       "    <tr>\n",
       "      <th>...</th>\n",
       "      <td>...</td>\n",
       "      <td>...</td>\n",
       "      <td>...</td>\n",
       "      <td>...</td>\n",
       "      <td>...</td>\n",
       "      <td>...</td>\n",
       "      <td>...</td>\n",
       "    </tr>\n",
       "    <tr>\n",
       "      <th>6579</th>\n",
       "      <td>6635</td>\n",
       "      <td>2022-09-05 00:00:00</td>\n",
       "      <td>2022-09-28 00:00:00</td>\n",
       "      <td>2022-06-01 00:00:00</td>\n",
       "      <td>None</td>\n",
       "      <td>23 days</td>\n",
       "      <td>-96 days</td>\n",
       "    </tr>\n",
       "    <tr>\n",
       "      <th>6585</th>\n",
       "      <td>6641</td>\n",
       "      <td>2022-09-05 00:00:00</td>\n",
       "      <td>2022-09-28 00:00:00</td>\n",
       "      <td>2022-06-14 00:00:00</td>\n",
       "      <td>None</td>\n",
       "      <td>23 days</td>\n",
       "      <td>-83 days</td>\n",
       "    </tr>\n",
       "    <tr>\n",
       "      <th>6589</th>\n",
       "      <td>6645</td>\n",
       "      <td>2022-09-05 00:00:00</td>\n",
       "      <td>2022-09-28 00:00:00</td>\n",
       "      <td>2022-06-16 00:00:00</td>\n",
       "      <td>None</td>\n",
       "      <td>23 days</td>\n",
       "      <td>-81 days</td>\n",
       "    </tr>\n",
       "    <tr>\n",
       "      <th>6592</th>\n",
       "      <td>6648</td>\n",
       "      <td>2022-08-30 00:00:00</td>\n",
       "      <td>2022-09-28 00:00:00</td>\n",
       "      <td>2022-06-08 00:00:00</td>\n",
       "      <td>None</td>\n",
       "      <td>29 days</td>\n",
       "      <td>-83 days</td>\n",
       "    </tr>\n",
       "    <tr>\n",
       "      <th>6595</th>\n",
       "      <td>6651</td>\n",
       "      <td>2022-09-05 00:00:00</td>\n",
       "      <td>2022-09-28 00:00:00</td>\n",
       "      <td>2022-07-01 00:00:00</td>\n",
       "      <td>None</td>\n",
       "      <td>23 days</td>\n",
       "      <td>-66 days</td>\n",
       "    </tr>\n",
       "  </tbody>\n",
       "</table>\n",
       "<p>1052 rows × 7 columns</p>\n",
       "</div>"
      ],
      "text/plain": [
       "      ContactID          first_start           still_have  \\\n",
       "0             1  2021-12-01 00:00:00  2022-01-17 00:00:00   \n",
       "8             9  2021-07-05 00:00:00  2021-07-16 00:00:00   \n",
       "16           18  2021-05-31 00:00:00  2022-02-25 00:00:00   \n",
       "17           19  2021-04-01 00:00:00  2021-08-25 00:00:00   \n",
       "34           36  2021-10-30 00:00:00  2021-12-28 00:00:00   \n",
       "...         ...                  ...                  ...   \n",
       "6579       6635  2022-09-05 00:00:00  2022-09-28 00:00:00   \n",
       "6585       6641  2022-09-05 00:00:00  2022-09-28 00:00:00   \n",
       "6589       6645  2022-09-05 00:00:00  2022-09-28 00:00:00   \n",
       "6592       6648  2022-08-30 00:00:00  2022-09-28 00:00:00   \n",
       "6595       6651  2022-09-05 00:00:00  2022-09-28 00:00:00   \n",
       "\n",
       "                first_end six_mo_crude survived_for ended_in  \n",
       "0     2021-12-01 00:00:00        False      47 days   0 days  \n",
       "8     2022-04-04 00:00:00         None      11 days 273 days  \n",
       "16    2022-01-03 00:00:00         True     270 days 217 days  \n",
       "17    2021-07-21 00:00:00         None     146 days 111 days  \n",
       "34    2022-01-01 00:00:00         None      59 days  63 days  \n",
       "...                   ...          ...          ...      ...  \n",
       "6579  2022-06-01 00:00:00         None      23 days -96 days  \n",
       "6585  2022-06-14 00:00:00         None      23 days -83 days  \n",
       "6589  2022-06-16 00:00:00         None      23 days -81 days  \n",
       "6592  2022-06-08 00:00:00         None      29 days -83 days  \n",
       "6595  2022-07-01 00:00:00         None      23 days -66 days  \n",
       "\n",
       "[1052 rows x 7 columns]"
      ]
     },
     "execution_count": 71,
     "metadata": {},
     "output_type": "execute_result"
    }
   ],
   "source": [
    "results[~results.first_end.isna()]"
   ]
  },
  {
   "cell_type": "markdown",
   "id": "6116d5fd-4d85-4126-b17e-15a874105e47",
   "metadata": {},
   "source": [
    "Yikes; this is bad... The end time seems very unreliable..."
   ]
  },
  {
   "cell_type": "code",
   "execution_count": 74,
   "id": "a284f5eb-bcc7-4da7-ac90-4070c6cedbe9",
   "metadata": {},
   "outputs": [],
   "source": [
    "quick_export = results[~results.six_mo_crude.isna()][['ContactID', 'six_mo_crude']].copy()"
   ]
  },
  {
   "cell_type": "code",
   "execution_count": 75,
   "id": "86f9685e-5991-426a-b5ba-9695efe1f312",
   "metadata": {},
   "outputs": [
    {
     "data": {
      "text/html": [
       "<div>\n",
       "<style scoped>\n",
       "    .dataframe tbody tr th:only-of-type {\n",
       "        vertical-align: middle;\n",
       "    }\n",
       "\n",
       "    .dataframe tbody tr th {\n",
       "        vertical-align: top;\n",
       "    }\n",
       "\n",
       "    .dataframe thead th {\n",
       "        text-align: right;\n",
       "    }\n",
       "</style>\n",
       "<table border=\"1\" class=\"dataframe\">\n",
       "  <thead>\n",
       "    <tr style=\"text-align: right;\">\n",
       "      <th></th>\n",
       "      <th>ContactID</th>\n",
       "      <th>six_mo_crude</th>\n",
       "    </tr>\n",
       "  </thead>\n",
       "  <tbody>\n",
       "    <tr>\n",
       "      <th>0</th>\n",
       "      <td>1</td>\n",
       "      <td>False</td>\n",
       "    </tr>\n",
       "    <tr>\n",
       "      <th>9</th>\n",
       "      <td>10</td>\n",
       "      <td>True</td>\n",
       "    </tr>\n",
       "    <tr>\n",
       "      <th>13</th>\n",
       "      <td>15</td>\n",
       "      <td>True</td>\n",
       "    </tr>\n",
       "    <tr>\n",
       "      <th>16</th>\n",
       "      <td>18</td>\n",
       "      <td>True</td>\n",
       "    </tr>\n",
       "    <tr>\n",
       "      <th>21</th>\n",
       "      <td>23</td>\n",
       "      <td>True</td>\n",
       "    </tr>\n",
       "    <tr>\n",
       "      <th>...</th>\n",
       "      <td>...</td>\n",
       "      <td>...</td>\n",
       "    </tr>\n",
       "    <tr>\n",
       "      <th>5665</th>\n",
       "      <td>5718</td>\n",
       "      <td>False</td>\n",
       "    </tr>\n",
       "    <tr>\n",
       "      <th>5672</th>\n",
       "      <td>5725</td>\n",
       "      <td>False</td>\n",
       "    </tr>\n",
       "    <tr>\n",
       "      <th>5674</th>\n",
       "      <td>5727</td>\n",
       "      <td>False</td>\n",
       "    </tr>\n",
       "    <tr>\n",
       "      <th>7060</th>\n",
       "      <td>7117</td>\n",
       "      <td>True</td>\n",
       "    </tr>\n",
       "    <tr>\n",
       "      <th>7065</th>\n",
       "      <td>7122</td>\n",
       "      <td>True</td>\n",
       "    </tr>\n",
       "  </tbody>\n",
       "</table>\n",
       "<p>1349 rows × 2 columns</p>\n",
       "</div>"
      ],
      "text/plain": [
       "      ContactID six_mo_crude\n",
       "0             1        False\n",
       "9            10         True\n",
       "13           15         True\n",
       "16           18         True\n",
       "21           23         True\n",
       "...         ...          ...\n",
       "5665       5718        False\n",
       "5672       5725        False\n",
       "5674       5727        False\n",
       "7060       7117         True\n",
       "7065       7122         True\n",
       "\n",
       "[1349 rows x 2 columns]"
      ]
     },
     "execution_count": 75,
     "metadata": {},
     "output_type": "execute_result"
    }
   ],
   "source": [
    "quick_export"
   ]
  },
  {
   "cell_type": "code",
   "execution_count": 76,
   "id": "00e40585-33bf-4364-9794-d8ba21ffb12b",
   "metadata": {},
   "outputs": [],
   "source": [
    "quick_export['six_month_retained'] = quick_export.six_mo_crude.astype(int)"
   ]
  },
  {
   "cell_type": "code",
   "execution_count": 77,
   "id": "3373accc-1c61-4aec-9ec1-62f7eb840f7f",
   "metadata": {},
   "outputs": [],
   "source": [
    "quick_export = quick_export[['ContactID', 'six_month_retained']]"
   ]
  },
  {
   "cell_type": "code",
   "execution_count": 78,
   "id": "c0505adf-9e30-436a-9d16-0e53c77c35b1",
   "metadata": {},
   "outputs": [
    {
     "data": {
      "text/html": [
       "<div>\n",
       "<style scoped>\n",
       "    .dataframe tbody tr th:only-of-type {\n",
       "        vertical-align: middle;\n",
       "    }\n",
       "\n",
       "    .dataframe tbody tr th {\n",
       "        vertical-align: top;\n",
       "    }\n",
       "\n",
       "    .dataframe thead th {\n",
       "        text-align: right;\n",
       "    }\n",
       "</style>\n",
       "<table border=\"1\" class=\"dataframe\">\n",
       "  <thead>\n",
       "    <tr style=\"text-align: right;\">\n",
       "      <th></th>\n",
       "      <th>ContactID</th>\n",
       "      <th>six_month_retained</th>\n",
       "    </tr>\n",
       "  </thead>\n",
       "  <tbody>\n",
       "    <tr>\n",
       "      <th>0</th>\n",
       "      <td>1</td>\n",
       "      <td>0</td>\n",
       "    </tr>\n",
       "    <tr>\n",
       "      <th>9</th>\n",
       "      <td>10</td>\n",
       "      <td>1</td>\n",
       "    </tr>\n",
       "    <tr>\n",
       "      <th>13</th>\n",
       "      <td>15</td>\n",
       "      <td>1</td>\n",
       "    </tr>\n",
       "    <tr>\n",
       "      <th>16</th>\n",
       "      <td>18</td>\n",
       "      <td>1</td>\n",
       "    </tr>\n",
       "    <tr>\n",
       "      <th>21</th>\n",
       "      <td>23</td>\n",
       "      <td>1</td>\n",
       "    </tr>\n",
       "    <tr>\n",
       "      <th>...</th>\n",
       "      <td>...</td>\n",
       "      <td>...</td>\n",
       "    </tr>\n",
       "    <tr>\n",
       "      <th>5665</th>\n",
       "      <td>5718</td>\n",
       "      <td>0</td>\n",
       "    </tr>\n",
       "    <tr>\n",
       "      <th>5672</th>\n",
       "      <td>5725</td>\n",
       "      <td>0</td>\n",
       "    </tr>\n",
       "    <tr>\n",
       "      <th>5674</th>\n",
       "      <td>5727</td>\n",
       "      <td>0</td>\n",
       "    </tr>\n",
       "    <tr>\n",
       "      <th>7060</th>\n",
       "      <td>7117</td>\n",
       "      <td>1</td>\n",
       "    </tr>\n",
       "    <tr>\n",
       "      <th>7065</th>\n",
       "      <td>7122</td>\n",
       "      <td>1</td>\n",
       "    </tr>\n",
       "  </tbody>\n",
       "</table>\n",
       "<p>1349 rows × 2 columns</p>\n",
       "</div>"
      ],
      "text/plain": [
       "      ContactID  six_month_retained\n",
       "0             1                   0\n",
       "9            10                   1\n",
       "13           15                   1\n",
       "16           18                   1\n",
       "21           23                   1\n",
       "...         ...                 ...\n",
       "5665       5718                   0\n",
       "5672       5725                   0\n",
       "5674       5727                   0\n",
       "7060       7117                   1\n",
       "7065       7122                   1\n",
       "\n",
       "[1349 rows x 2 columns]"
      ]
     },
     "execution_count": 78,
     "metadata": {},
     "output_type": "execute_result"
    }
   ],
   "source": [
    "quick_export"
   ]
  },
  {
   "cell_type": "code",
   "execution_count": 79,
   "id": "a5f48168-a3a8-471b-b279-403c71f340c7",
   "metadata": {},
   "outputs": [],
   "source": [
    "quick_export.to_csv('20230916-six_month_retained.csv', index=False)"
   ]
  },
  {
   "cell_type": "markdown",
   "id": "e7fd576c-b4b1-47df-aec0-d59cda202ebe",
   "metadata": {},
   "source": [
    "How similar is that to the old way?"
   ]
  },
  {
   "cell_type": "code",
   "execution_count": 83,
   "id": "461c729c-252b-4a0e-99a3-c27957a92f91",
   "metadata": {},
   "outputs": [
    {
     "data": {
      "text/plain": [
       "['pl_6',\n",
       " 'pl_6_data',\n",
       " 'X6.Month.Job.Retention',\n",
       " 'X6.Month.Continuously.Working',\n",
       " 'X6.Month.Post.Placement.Data.Avail.YES',\n",
       " 'Retention_6_months',\n",
       " 'Retention at 6 Months']"
      ]
     },
     "execution_count": 83,
     "metadata": {},
     "output_type": "execute_result"
    }
   ],
   "source": [
    "[column for column in list(people.columns) if '6' in column]"
   ]
  },
  {
   "cell_type": "code",
   "execution_count": 85,
   "id": "362c7311-b794-415a-994e-145e87cb3f03",
   "metadata": {},
   "outputs": [],
   "source": [
    "compare = pd.merge(quick_export, people[['ContactID', 'Retention_6_months']])"
   ]
  },
  {
   "cell_type": "code",
   "execution_count": 86,
   "id": "cad77b90-a97d-408c-b8c6-6c94dc892b7e",
   "metadata": {},
   "outputs": [
    {
     "data": {
      "text/html": [
       "<div>\n",
       "<style scoped>\n",
       "    .dataframe tbody tr th:only-of-type {\n",
       "        vertical-align: middle;\n",
       "    }\n",
       "\n",
       "    .dataframe tbody tr th {\n",
       "        vertical-align: top;\n",
       "    }\n",
       "\n",
       "    .dataframe thead th {\n",
       "        text-align: right;\n",
       "    }\n",
       "</style>\n",
       "<table border=\"1\" class=\"dataframe\">\n",
       "  <thead>\n",
       "    <tr style=\"text-align: right;\">\n",
       "      <th></th>\n",
       "      <th>ContactID</th>\n",
       "      <th>six_month_retained</th>\n",
       "      <th>Retention_6_months</th>\n",
       "    </tr>\n",
       "  </thead>\n",
       "  <tbody>\n",
       "    <tr>\n",
       "      <th>5</th>\n",
       "      <td>26</td>\n",
       "      <td>0</td>\n",
       "      <td>1.0</td>\n",
       "    </tr>\n",
       "    <tr>\n",
       "      <th>18</th>\n",
       "      <td>120</td>\n",
       "      <td>1</td>\n",
       "      <td>0.0</td>\n",
       "    </tr>\n",
       "    <tr>\n",
       "      <th>19</th>\n",
       "      <td>121</td>\n",
       "      <td>0</td>\n",
       "      <td>1.0</td>\n",
       "    </tr>\n",
       "    <tr>\n",
       "      <th>38</th>\n",
       "      <td>183</td>\n",
       "      <td>0</td>\n",
       "      <td>1.0</td>\n",
       "    </tr>\n",
       "    <tr>\n",
       "      <th>68</th>\n",
       "      <td>224</td>\n",
       "      <td>0</td>\n",
       "      <td>1.0</td>\n",
       "    </tr>\n",
       "    <tr>\n",
       "      <th>...</th>\n",
       "      <td>...</td>\n",
       "      <td>...</td>\n",
       "      <td>...</td>\n",
       "    </tr>\n",
       "    <tr>\n",
       "      <th>1232</th>\n",
       "      <td>4932</td>\n",
       "      <td>0</td>\n",
       "      <td>1.0</td>\n",
       "    </tr>\n",
       "    <tr>\n",
       "      <th>1272</th>\n",
       "      <td>5128</td>\n",
       "      <td>0</td>\n",
       "      <td>1.0</td>\n",
       "    </tr>\n",
       "    <tr>\n",
       "      <th>1275</th>\n",
       "      <td>5132</td>\n",
       "      <td>0</td>\n",
       "      <td>1.0</td>\n",
       "    </tr>\n",
       "    <tr>\n",
       "      <th>1285</th>\n",
       "      <td>5175</td>\n",
       "      <td>0</td>\n",
       "      <td>1.0</td>\n",
       "    </tr>\n",
       "    <tr>\n",
       "      <th>1293</th>\n",
       "      <td>5222</td>\n",
       "      <td>0</td>\n",
       "      <td>1.0</td>\n",
       "    </tr>\n",
       "  </tbody>\n",
       "</table>\n",
       "<p>128 rows × 3 columns</p>\n",
       "</div>"
      ],
      "text/plain": [
       "      ContactID  six_month_retained  Retention_6_months\n",
       "5            26                   0                 1.0\n",
       "18          120                   1                 0.0\n",
       "19          121                   0                 1.0\n",
       "38          183                   0                 1.0\n",
       "68          224                   0                 1.0\n",
       "...         ...                 ...                 ...\n",
       "1232       4932                   0                 1.0\n",
       "1272       5128                   0                 1.0\n",
       "1275       5132                   0                 1.0\n",
       "1285       5175                   0                 1.0\n",
       "1293       5222                   0                 1.0\n",
       "\n",
       "[128 rows x 3 columns]"
      ]
     },
     "execution_count": 86,
     "metadata": {},
     "output_type": "execute_result"
    }
   ],
   "source": [
    "compare[compare.six_month_retained != compare.Retention_6_months]"
   ]
  },
  {
   "cell_type": "code",
   "execution_count": 94,
   "id": "bd119f2c-bb11-48eb-8d78-0d4e2e3122e3",
   "metadata": {},
   "outputs": [
    {
     "data": {
      "text/plain": [
       "7"
      ]
     },
     "execution_count": 94,
     "metadata": {},
     "output_type": "execute_result"
    }
   ],
   "source": [
    "compare.old_way.isna().sum()"
   ]
  },
  {
   "cell_type": "code",
   "execution_count": 89,
   "id": "80b16dd8-e85b-4f37-aef5-d544e4b34534",
   "metadata": {},
   "outputs": [],
   "source": [
    "compare.columns = ['ContactID', 'new_way', 'old_way']"
   ]
  },
  {
   "cell_type": "markdown",
   "id": "becc76db-eee8-4bf5-92d9-cc8d8bc75350",
   "metadata": {},
   "source": [
    "Aaron Schumacher worked on a new way of defining 6-month retention from the `JobsData_Clean.csv`.\n",
    "\n",
    "There was some thought that the \"old way\" (`Retention_6_months` in `ContactsProcessed.csv`) was not ideal, possibly because it was not differentiating between retention in first jobs vs. working second (etc.) jobs, or possibly even other issues like just checking for employment at six months out from completing the program."
   ]
  },
  {
   "cell_type": "code",
   "execution_count": 91,
   "id": "66265eac-1b10-4db8-9b69-129813068cac",
   "metadata": {},
   "outputs": [
    {
     "data": {
      "text/html": [
       "<div>\n",
       "<style scoped>\n",
       "    .dataframe tbody tr th:only-of-type {\n",
       "        vertical-align: middle;\n",
       "    }\n",
       "\n",
       "    .dataframe tbody tr th {\n",
       "        vertical-align: top;\n",
       "    }\n",
       "\n",
       "    .dataframe thead th {\n",
       "        text-align: right;\n",
       "    }\n",
       "</style>\n",
       "<table border=\"1\" class=\"dataframe\">\n",
       "  <thead>\n",
       "    <tr style=\"text-align: right;\">\n",
       "      <th>old_way</th>\n",
       "      <th>0.0</th>\n",
       "      <th>1.0</th>\n",
       "    </tr>\n",
       "    <tr>\n",
       "      <th>new_way</th>\n",
       "      <th></th>\n",
       "      <th></th>\n",
       "    </tr>\n",
       "  </thead>\n",
       "  <tbody>\n",
       "    <tr>\n",
       "      <th>0</th>\n",
       "      <td>315</td>\n",
       "      <td>94</td>\n",
       "    </tr>\n",
       "    <tr>\n",
       "      <th>1</th>\n",
       "      <td>27</td>\n",
       "      <td>869</td>\n",
       "    </tr>\n",
       "  </tbody>\n",
       "</table>\n",
       "</div>"
      ],
      "text/plain": [
       "old_way  0.0  1.0\n",
       "new_way          \n",
       "0        315   94\n",
       "1         27  869"
      ]
     },
     "execution_count": 91,
     "metadata": {},
     "output_type": "execute_result"
    }
   ],
   "source": [
    "pd.crosstab(compare.new_way, compare.old_way)"
   ]
  },
  {
   "cell_type": "markdown",
   "id": "f8f7a757-9328-4589-b520-46cd7e60e8b2",
   "metadata": {},
   "source": [
    "Comparing the old way of calculating 6-month retention (0.0/1.0, across the top) with the new way of calculating 6-month retention by looking at '6-Month Post-Placement Status Check' surveys and checking that people are still working the _same_ job at that point, there are several comparisons.\n",
    "\n",
    "For one thing, the new way gives us fewer labels to work with. There are only 1,349 results with the \"new way,\" compared to 2,653 results with the \"old way.\"\n",
    "\n",
    "For the 1,305 people where we have both results, there is 91% agreement. The \"new way\" is somewhat more likely to say \"no\" where the \"old way\" said \"yes,\" supporting the hypothesis that the \"old way\" sometimes marked people as 6-month retention where it shouldn't have."
   ]
  },
  {
   "cell_type": "code",
   "execution_count": null,
   "id": "9ef64976-c6be-423e-9d85-d54c4c2fdf9b",
   "metadata": {},
   "outputs": [],
   "source": []
  }
 ],
 "metadata": {
  "kernelspec": {
   "display_name": "Python 3 (ipykernel)",
   "language": "python",
   "name": "python3"
  },
  "language_info": {
   "codemirror_mode": {
    "name": "ipython",
    "version": 3
   },
   "file_extension": ".py",
   "mimetype": "text/x-python",
   "name": "python",
   "nbconvert_exporter": "python",
   "pygments_lexer": "ipython3",
   "version": "3.11.5"
  }
 },
 "nbformat": 4,
 "nbformat_minor": 5
}
